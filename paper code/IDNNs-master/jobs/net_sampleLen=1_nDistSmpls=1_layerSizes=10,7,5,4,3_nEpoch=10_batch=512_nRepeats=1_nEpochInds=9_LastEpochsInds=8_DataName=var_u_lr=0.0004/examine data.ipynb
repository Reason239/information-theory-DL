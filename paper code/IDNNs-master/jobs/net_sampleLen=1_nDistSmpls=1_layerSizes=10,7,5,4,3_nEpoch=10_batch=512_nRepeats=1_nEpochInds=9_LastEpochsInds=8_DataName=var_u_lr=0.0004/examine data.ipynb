{
 "cells": [
  {
   "cell_type": "code",
   "execution_count": 1,
   "metadata": {},
   "outputs": [],
   "source": [
    "import pickle"
   ]
  },
  {
   "cell_type": "code",
   "execution_count": 2,
   "metadata": {},
   "outputs": [],
   "source": [
    "f = open('data.pickle', 'rb')\n",
    "dat = pickle.load(f)\n"
   ]
  },
  {
   "cell_type": "code",
   "execution_count": 4,
   "metadata": {},
   "outputs": [
    {
     "name": "stdout",
     "output_type": "stream",
     "text": [
      "['information', 'test_error', 'train_error', 'var_grad_val', 'loss_test', 'loss_train', 'params', 'l1_norms', 'weights', 'ws']\n"
     ]
    }
   ],
   "source": [
    "print(list(dat.keys()))"
   ]
  },
  {
   "cell_type": "code",
   "execution_count": 5,
   "outputs": [
    {
     "name": "stdout",
     "output_type": "stream",
     "text": [
      "<class 'list'>\n"
     ]
    }
   ],
   "source": [
    "print(type(dat['information']))"
   ],
   "metadata": {
    "collapsed": false,
    "pycharm": {
     "name": "#%%\n"
    }
   }
  },
  {
   "cell_type": "code",
   "execution_count": 12,
   "outputs": [
    {
     "name": "stdout",
     "output_type": "stream",
     "text": [
      "[{'local_IXT': 12.0, 'local_ITY': 0.9991571208502705}\n",
      " {'local_IXT': 11.994140625, 'local_ITY': 0.9972039958502723}\n",
      " {'local_IXT': 11.363514391388684, 'local_ITY': 0.8211010947092952}\n",
      " {'local_IXT': 7.9513413453573865, 'local_ITY': 0.3697496410831258}\n",
      " {'local_IXT': 4.845535354497544, 'local_ITY': 0.2090525579824778}\n",
      " {'local_IXT': 1.1383622615800868, 'local_ITY': 0.011842339908639365}]\n"
     ]
    }
   ],
   "source": [
    "print((dat['information'][0][0][0][0][0]))"
   ],
   "metadata": {
    "collapsed": false,
    "pycharm": {
     "name": "#%%\n"
    }
   }
  },
  {
   "cell_type": "code",
   "execution_count": null,
   "outputs": [],
   "source": [
    "\n"
   ],
   "metadata": {
    "collapsed": false,
    "pycharm": {
     "name": "#%%\n"
    }
   }
  }
 ],
 "metadata": {
  "kernelspec": {
   "display_name": "Python 3",
   "language": "python",
   "name": "python3"
  },
  "language_info": {
   "codemirror_mode": {
    "name": "ipython",
    "version": 3
   },
   "file_extension": ".py",
   "mimetype": "text/x-python",
   "name": "python",
   "nbconvert_exporter": "python",
   "pygments_lexer": "ipython3",
   "version": "3.7.4"
  }
 },
 "nbformat": 4,
 "nbformat_minor": 2
}